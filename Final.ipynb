{
 "cells": [
  {
   "cell_type": "code",
   "execution_count": 28,
   "metadata": {
    "collapsed": true,
    "deletable": true,
    "editable": true
   },
   "outputs": [],
   "source": [
    "import numpy as np\n",
    "import pandas as pd\n",
    "\n",
    "from sklearn.feature_extraction.text import TfidfVectorizer\n",
    "from sklearn.feature_extraction.text import CountVectorizer\n",
    "\n",
    "from sklearn.model_selection import KFold\n",
    "\n",
    "from sklearn.multiclass import OneVsRestClassifier\n",
    "\n",
    "from scipy.spatial.distance import cdist\n",
    "\n",
    "from collections import Counter\n",
    "\n",
    "import matplotlib.pyplot as plt\n",
    "%matplotlib inline"
   ]
  },
  {
   "cell_type": "code",
   "execution_count": null,
   "metadata": {
    "collapsed": true,
    "deletable": true,
    "editable": true
   },
   "outputs": [],
   "source": [
    "def get_output():\n",
    "    y = pd.read_csv(\"processed_tags.csv\")\n",
    "    y.drop([\"Name\"], axis=1, inplace = True)\n",
    "    return np.array(y)"
   ]
  },
  {
   "cell_type": "code",
   "execution_count": 3,
   "metadata": {
    "collapsed": true,
    "deletable": true,
    "editable": true
   },
   "outputs": [],
   "source": [
    "def get_data():\n",
    "    train_lines = np.array([' '.join(f.split()) for i in range(10000) \n",
    "                  for f in open(\"features_train_prepossesing_noun/\"\n",
    "                                + str(i) \n",
    "                                + \".txt\")])\n",
    "    unique_words = list(set([item for sublist in train_lines.ravel() for item in sublist.split()]))\n",
    "    \n",
    "    count_vect = TfidfVectorizer(vocabulary = unique_words)\n",
    "    X_train = count_vect.fit_transform(train_lines)\n",
    "    X_train = X_train.toarray()\n",
    "    \n",
    "    test_lines = np.array([' '.join(f.split()) for i in range(2000) \n",
    "                  for f in open(\"features_test_prepossesing_noun/\"\n",
    "                                + str(i) \n",
    "                                + \".txt\")])\n",
    "    \n",
    "    X_test = count_vect.transform(test_lines)\n",
    "    X_test = X_test.toarray()\n",
    "    \n",
    "    return X_train, X_test, unique_words"
   ]
  },
  {
   "cell_type": "code",
   "execution_count": 26,
   "metadata": {
    "collapsed": true,
    "deletable": true,
    "editable": true
   },
   "outputs": [],
   "source": [
    "def make_better_tags(X_train, X_test, unique_words, k):\n",
    "    unique_tags = []\n",
    "    for arr in X_train:\n",
    "        tags = [i for i in arr.argsort()[-k:][::-1]]\n",
    "\n",
    "        for i in tags:\n",
    "            if unique_words[i] not in unique_tags:\n",
    "                unique_tags.append(unique_words[i])\n",
    "    \n",
    "    print(len(unique_tags))\n",
    "    \n",
    "    d = dict([(tag, 0) for tag in unique_tags])\n",
    "    \n",
    "    better_tags = []\n",
    "    for arr in X_train:\n",
    "        d_sample = d.copy()\n",
    "\n",
    "        for i in arr.argsort():\n",
    "            if unique_words[i] in unique_tags:\n",
    "                d_sample[unique_words[i]] = arr[i]\n",
    "        better_tags.append(list(d_sample.values()))\n",
    "\n",
    "    print(len(better_tags[0]))\n",
    "\n",
    "    pd.DataFrame(better_tags, columns=unique_tags).to_csv(\"better_train_{}_tags_nouns.csv\".format(k), \n",
    "                                                          index=False)\n",
    "    \n",
    "    better_tags = []\n",
    "    for arr in X_test:\n",
    "        d_sample = d.copy()\n",
    "\n",
    "        for i in arr.argsort():\n",
    "            if unique_words[i] in unique_tags:\n",
    "                d_sample[unique_words[i]] = arr[i]\n",
    "        better_tags.append(list(d_sample.values()))\n",
    "\n",
    "    print(len(better_tags[0]))\n",
    "\n",
    "    pd.DataFrame(better_tags, columns=unique_tags).to_csv(\"better_test_{}_tags_nouns.csv\".format(k), \n",
    "                                                          index=False)"
   ]
  },
  {
   "cell_type": "markdown",
   "metadata": {},
   "source": [
    "## Test models"
   ]
  },
  {
   "cell_type": "code",
   "execution_count": 6,
   "metadata": {
    "collapsed": true,
    "deletable": true,
    "editable": true
   },
   "outputs": [],
   "source": [
    "from sklearn.ensemble import RandomForestClassifier\n",
    "\n",
    "def test_rf(X_train, y):    \n",
    "    folds = 5\n",
    "    skf = KFold(n_splits=folds)\n",
    "    accuracy_log = []\n",
    "    \n",
    "    for train_index, test_index in skf.split(X_train, y):\n",
    "        print(\"SPLIT\")\n",
    "        x_train, x_test = X_train[train_index], X_train[test_index]\n",
    "        y_train, y_test = y[train_index], y[test_index]\n",
    "\n",
    "        # Create a random forest Classifier. By convention, clf means 'Classifier'\n",
    "        clf = OneVsRestClassifier(RandomForestClassifier(n_estimators=20, n_jobs=-1, random_state=0))\n",
    "\n",
    "        clf.fit(x_train, y_train)\n",
    "\n",
    "        accuracy_log.append(clf.score(x_test, y_test))\n",
    "\n",
    "        print('RF accuracy:', accuracy_log[-1])\n",
    "    print(\"Results\")\n",
    "    print(\"The average accuracy Random Forest is {}\".format(np.mean(accuracy_log)))"
   ]
  },
  {
   "cell_type": "code",
   "execution_count": 7,
   "metadata": {
    "collapsed": false
   },
   "outputs": [
    {
     "name": "stderr",
     "output_type": "stream",
     "text": [
      "Using TensorFlow backend.\n"
     ]
    }
   ],
   "source": [
    "from keras.models import Sequential\n",
    "from keras.layers import Dense, Dropout\n",
    "\n",
    "def test_nn(X_train, y):\n",
    "    folds = 3\n",
    "    skf = KFold(n_splits=folds)\n",
    "    accuracy = []\n",
    "    \n",
    "    for train_index, test_index in skf.split(X_train, y):\n",
    "        print(\"SPLIT\")\n",
    "        x_train, x_test = X_train[train_index], X_train[test_index]\n",
    "        y_train, y_test = y[train_index], y[test_index]\n",
    "\n",
    "        model = Sequential()\n",
    "        model.add(Dense(10, input_dim=x_train.shape[1], init='normal', activation='relu'))\n",
    "        model.add(Dropout(0.2))\n",
    "        model.add(Dense(y_train.shape[1], init='normal', activation='softmax'))\n",
    "\n",
    "        # Compile model     #logarithmic  loss     #method\n",
    "        model.compile(loss='categorical_crossentropy', \n",
    "                      optimizer='adam', \n",
    "                      metrics=['accuracy'])\n",
    "\n",
    "        # Fit the model\n",
    "        model.fit(x_train, y_train, \n",
    "                  nb_epoch=300, batch_size=100, \n",
    "                  validation_data=(x_test, y_test), \n",
    "                  verbose=2)\n",
    "\n",
    "        accuracy.append(model.evaluate(x_test, y_test)[1])\n",
    "        print()\n",
    "\n",
    "    print(\"Results\")\n",
    "    print(\"The average accuracy Neural Network is {}\".format(np.mean(accuracy)))"
   ]
  },
  {
   "cell_type": "code",
   "execution_count": 8,
   "metadata": {
    "collapsed": false,
    "deletable": true,
    "editable": true
   },
   "outputs": [],
   "source": [
    "X_train, X_test, unique_words = get_data()"
   ]
  },
  {
   "cell_type": "code",
   "execution_count": 24,
   "metadata": {
    "collapsed": false
   },
   "outputs": [
    {
     "name": "stdout",
     "output_type": "stream",
     "text": [
      "3323\n",
      "10000\n",
      "3323\n",
      "2000\n",
      "3323\n",
      "3323\n"
     ]
    }
   ],
   "source": [
    "make_better_tags(X_train, X_test, unique_words, 3)"
   ]
  },
  {
   "cell_type": "code",
   "execution_count": 10,
   "metadata": {
    "collapsed": true,
    "deletable": true,
    "editable": true
   },
   "outputs": [],
   "source": [
    "y = get_output()"
   ]
  },
  {
   "cell_type": "code",
   "execution_count": null,
   "metadata": {
    "collapsed": false
   },
   "outputs": [],
   "source": [
    "test_rf(X_train, y)"
   ]
  },
  {
   "cell_type": "code",
   "execution_count": null,
   "metadata": {
    "collapsed": false
   },
   "outputs": [],
   "source": [
    "# test_nn(X_train, y)"
   ]
  },
  {
   "cell_type": "markdown",
   "metadata": {
    "deletable": true,
    "editable": true
   },
   "source": [
    "## Predictions"
   ]
  },
  {
   "cell_type": "code",
   "execution_count": 19,
   "metadata": {
    "collapsed": true
   },
   "outputs": [],
   "source": [
    "def rf_predict_tags(X_train, X_test, y):\n",
    "    # Create a random forest Classifier. By convention, clf means 'Classifier'\n",
    "    clf = OneVsRestClassifier(RandomForestClassifier(n_estimators=20, n_jobs=-1, random_state=0))\n",
    "\n",
    "    clf.fit(X_train, y)\n",
    "    \n",
    "    predicted_tags = clf.predict_proba(X_test)\n",
    "    \n",
    "    columns = pd.read_csv(\"processed_tags.csv\").columns[1:]\n",
    "    \n",
    "    pd.DataFrame(predicted_tags, columns=columns).to_csv(\"RF_predicted_tags.csv\", index=False)"
   ]
  },
  {
   "cell_type": "code",
   "execution_count": 12,
   "metadata": {
    "collapsed": true
   },
   "outputs": [],
   "source": [
    "def nn_predict_tags(X_train, X_test, y):\n",
    "    model = Sequential()\n",
    "    model.add(Dense(10, input_dim=X_train.shape[1], init='normal', activation='relu'))\n",
    "    model.add(Dropout(0.2))\n",
    "    model.add(Dense(y.shape[1], init='normal', activation='softmax'))\n",
    "\n",
    "    # Compile model     #logarithmic  loss     #method\n",
    "    model.compile(loss='categorical_crossentropy', \n",
    "                  optimizer='adam', \n",
    "                  metrics=['accuracy'])\n",
    "\n",
    "    # Fit the model\n",
    "    model.fit(X_train, y, \n",
    "              nb_epoch=30, batch_size=100,\n",
    "              verbose=2)\n",
    "\n",
    "    predicted_tags = model.predict(X_test)\n",
    "    print(predicted_tags.shape)\n",
    "    \n",
    "    columns = pd.read_csv(\"processed_tags.csv\").columns[1:]\n",
    "    \n",
    "    pd.DataFrame(predicted_tags, columns=columns).to_csv(\"NN_predicted_tags.csv\", index=False)"
   ]
  },
  {
   "cell_type": "code",
   "execution_count": 21,
   "metadata": {
    "collapsed": true
   },
   "outputs": [],
   "source": [
    "def make_output(rf=False, nn=False):\n",
    "    groud_truth = pd.read_csv(\"processed_tags_test.csv\")\n",
    "    groud_truth.drop(['Name'], axis=1, inplace=True)\n",
    "    if rf == True:\n",
    "        predicted = pd.read_csv(\"RF_predicted_tags.csv\")\n",
    "        \n",
    "        simi=cdist(predicted, groud_truth, metric='cosine')\n",
    "        \n",
    "        rows = []\n",
    "        k=0\n",
    "        for row in simi:\n",
    "            top20 = row.argsort()[:20]\n",
    "            rows.append([str(k) + \".txt\", \" \".join([str(value) + \".jpg\" for value in top20])])\n",
    "            k+=1\n",
    "        pd.DataFrame(rows, columns=['Descritpion_ID', 'Top_20_Image_IDs']).to_csv(\"RF_submission.csv\", index=False)\n",
    "    elif nn == True:\n",
    "        predicted = pd.read_csv(\"NN_predicted_tags.csv\")\n",
    "        simi=cdist(predicted, groud_truth, metric='cosine')\n",
    "        \n",
    "        rows = []\n",
    "        k=0\n",
    "        for row in simi:\n",
    "            top20 = row.argsort()[:20]\n",
    "            rows.append([str(k) + \".txt\", \" \".join([str(value) + \".jpg\" for value in top20])])\n",
    "            k+=1\n",
    "        pd.DataFrame(rows, columns=['Descritpion_ID', 'Top_20_Image_IDs']).to_csv(\"NN_submission.csv\", index=False)\n",
    "    else:\n",
    "        1+1"
   ]
  },
  {
   "cell_type": "code",
   "execution_count": 20,
   "metadata": {
    "collapsed": true
   },
   "outputs": [],
   "source": [
    "rf_predict_tags(X_train, X_test, y)"
   ]
  },
  {
   "cell_type": "code",
   "execution_count": 15,
   "metadata": {
    "collapsed": false,
    "deletable": true,
    "editable": true
   },
   "outputs": [],
   "source": [
    "# nn_predict_tags(X_train, X_test, y)"
   ]
  },
  {
   "cell_type": "code",
   "execution_count": 22,
   "metadata": {
    "collapsed": false,
    "deletable": true,
    "editable": true
   },
   "outputs": [],
   "source": [
    "make_output(rf=True)"
   ]
  },
  {
   "cell_type": "code",
   "execution_count": null,
   "metadata": {
    "collapsed": true
   },
   "outputs": [],
   "source": []
  }
 ],
 "metadata": {
  "kernelspec": {
   "display_name": "Python 3",
   "language": "python",
   "name": "python3"
  },
  "language_info": {
   "codemirror_mode": {
    "name": "ipython",
    "version": 3
   },
   "file_extension": ".py",
   "mimetype": "text/x-python",
   "name": "python",
   "nbconvert_exporter": "python",
   "pygments_lexer": "ipython3",
   "version": "3.6.0"
  }
 },
 "nbformat": 4,
 "nbformat_minor": 2
}
