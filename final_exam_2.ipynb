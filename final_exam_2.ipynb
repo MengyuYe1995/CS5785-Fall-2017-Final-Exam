{
 "cells": [
  {
   "cell_type": "code",
   "execution_count": 40,
   "metadata": {},
   "outputs": [],
   "source": [
    "from sklearn.feature_extraction.text import TfidfVectorizer\n",
    "import pandas as pd\n",
    "tag_test = pd.read_csv(\"processed_tags_test.csv\")\n",
    "tag_test = tag_test.columns[1:]\n",
    "count_vect = TfidfVectorizer(vocabulary = tag_test)\n",
    "data_train=[]\n",
    "for index in range(10000):  \n",
    "    data=[]\n",
    "    for line in open(\"features_train_prepossesing/\" + str(index) + \".txt\"):\n",
    "        l = line.strip('\\n')\n",
    "        data.append(l)\n",
    "#        data = np.array(data)\n",
    "    data_train.append(data[0])"
   ]
  },
  {
   "cell_type": "code",
   "execution_count": 41,
   "metadata": {},
   "outputs": [],
   "source": [
    "train_feat=count_vect.fit_transform(data_train)\n",
    "train_feat=train_feat.toarray()"
   ]
  },
  {
   "cell_type": "code",
   "execution_count": 54,
   "metadata": {},
   "outputs": [
    {
     "data": {
      "text/plain": [
       "(2000, 91)"
      ]
     },
     "execution_count": 54,
     "metadata": {},
     "output_type": "execute_result"
    }
   ],
   "source": [
    "import csv\n",
    "import numpy as np\n",
    "from sklearn.feature_extraction.text import TfidfTransformer\n",
    "transformer = TfidfTransformer(norm='l2',use_idf=True,smooth_idf=True,sublinear_tf=False)\n",
    "tag_feat=[]\n",
    "with open('processed_tags_test.csv') as csvfile:\n",
    "    lines = csv.reader(csvfile)\n",
    "    for index,line in enumerate (lines):\n",
    "        if index!=0:\n",
    "            tag_feat.append(line[1:])\n",
    "tag_feat=np.array(tag_feat, dtype= float) \n",
    "tag_feat.shape\n",
    "tag_feat= transformer.fit_transform(tag_feat).toarray()\n"
   ]
  },
  {
   "cell_type": "code",
   "execution_count": 56,
   "metadata": {},
   "outputs": [],
   "source": [
    "data_test=[]\n",
    "for index in range(2000):  \n",
    "    data=[]\n",
    "    for line in open(\"features_test_prepossesing/\" + str(index) + \".txt\"):\n",
    "        l = line.strip('\\n')\n",
    "        data.append(l)\n",
    "#        data = np.array(data)\n",
    "    data_test.append(data[0])\n",
    "test_feat=count_vect.transform(data_test)\n",
    "test_feat=test_feat.toarray()"
   ]
  },
  {
   "cell_type": "code",
   "execution_count": 57,
   "metadata": {},
   "outputs": [],
   "source": [
    "from scipy.spatial.distance import cdist\n",
    "simi=cdist(test_feat,tag_feat,metric='cosine')\n",
    "rows=[['Descritpion_ID', 'Top_20_Image_IDs']]\n",
    "for i in range (len(test_feat)):\n",
    "    buffer1=[]\n",
    "    buffer1=simi[i].argsort()[:20]\n",
    "    rows.append([str(i) + \".txt\", \" \".join([str(value) + \".jpg\" for value in buffer1])])\n",
    "csv.writer(open(\"submission_try_new.csv\", \"w\")).writerows(rows)"
   ]
  },
  {
   "cell_type": "code",
   "execution_count": 47,
   "metadata": {},
   "outputs": [
    {
     "data": {
      "text/plain": [
       "(2000, 91)"
      ]
     },
     "execution_count": 47,
     "metadata": {},
     "output_type": "execute_result"
    }
   ],
   "source": [
    "tag_feat.shape"
   ]
  },
  {
   "cell_type": "code",
   "execution_count": null,
   "metadata": {
    "collapsed": true
   },
   "outputs": [],
   "source": []
  }
 ],
 "metadata": {
  "kernelspec": {
   "display_name": "Python 2",
   "language": "python",
   "name": "python2"
  },
  "language_info": {
   "codemirror_mode": {
    "name": "ipython",
    "version": 2
   },
   "file_extension": ".py",
   "mimetype": "text/x-python",
   "name": "python",
   "nbconvert_exporter": "python",
   "pygments_lexer": "ipython2",
   "version": "2.7.13"
  }
 },
 "nbformat": 4,
 "nbformat_minor": 2
}
